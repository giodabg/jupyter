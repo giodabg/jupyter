{
 "cells": [
  {
   "cell_type": "markdown",
   "id": "9da99b13-a784-4087-ada1-41456a553bb3",
   "metadata": {
    "tags": []
   },
   "source": [
    "This notebook was created by Giovanni Breviario, and is licensed under Creative Commons BY-SA\n",
    "\n",
    "\n",
    "# Sito cocalc\n",
    "https://cocalc.com/features/jupyter-notebook\n",
    "https://cocalc.com/features/slides\n",
    "\n",
    "Biblioteca pubblica di notebook\n",
    "https://cocalc.com/share/public_paths/page/1\n",
    "\n",
    "\n",
    "https://jupyter.org/try-jupyter/lab/?path=notebooks%2FIntro.ipynb\n",
    "https://jupyter.org/try-jupyter/notebooks/index.html?path=notebooks%2FIntro.ipynb"
   ]
  },
  {
   "cell_type": "code",
   "execution_count": null,
   "id": "6b2f9cf4-dca4-455c-af45-b1e43e54494c",
   "metadata": {},
   "outputs": [],
   "source": []
  }
 ],
 "metadata": {
  "kernelspec": {
   "display_name": "Python 3 (ipykernel)",
   "language": "python",
   "name": "python3"
  },
  "language_info": {
   "codemirror_mode": {
    "name": "ipython",
    "version": 3
   },
   "file_extension": ".py",
   "mimetype": "text/x-python",
   "name": "python",
   "nbconvert_exporter": "python",
   "pygments_lexer": "ipython3",
   "version": "3.10.12"
  }
 },
 "nbformat": 4,
 "nbformat_minor": 5
}
