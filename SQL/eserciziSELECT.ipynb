L'istruzione SQL SELECT è utilizzata per selezionare (ritrovare) dei dati all'interno di un database.

Esempio

-- select first_name from Customers table 
SELECT first_name
FROM Customers;


Si vogliono selezionare i nomi (first_name) di tutti gli acquirenti (customers) presenti nella tabella Customers.
